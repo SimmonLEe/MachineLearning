{
 "cells": [
  {
   "cell_type": "markdown",
   "id": "prescribed-pepper",
   "metadata": {},
   "source": [
    "# 机器学习算法                      \n",
    "## 聚类算法 \n",
    "#### @project: K均值算法\n",
    "#### @Author:SimmonsLee\n",
    "#### @Date:3/15/2021\n",
    "#### @Descrimination: 此篇代码为Kmeans算法的代码 实现了如下功能:\n",
    "1.通过控制参数init_method实现了random的初始化方法和kmeans++的初始化方法<br/>\n",
    "2.通过控制参数L实现了多种距离的簇间度量<br/>\n",
    "3.可视化了最终结果(我使用的测试用例数据特征维度都是为2维度的，因为便于画图查看, 大于2维度的特征也可以成功运行，但是只会画前两个维度的图像)<br/>\n",
    "4.输入样本数据的维度是没有限定的<br/>"
   ]
  },
  {
   "cell_type": "markdown",
   "id": "major-leather",
   "metadata": {},
   "source": [
    "# 导入需要的包"
   ]
  },
  {
   "cell_type": "code",
   "execution_count": 18,
   "id": "industrial-elder",
   "metadata": {},
   "outputs": [],
   "source": [
    "try:\n",
    "    import numpy as np\n",
    "except:\n",
    "    !pip install numpy\n",
    "    import numpy as np\n",
    "try:\n",
    "    import matplotlib.pyplot as plt\n",
    "except:\n",
    "    !pip install matplotlib\n",
    "    import matplotlib.pyplot as plt"
   ]
  },
  {
   "cell_type": "markdown",
   "id": "spatial-dakota",
   "metadata": {},
   "source": [
    "# 机器学习算法Kmeans的主要步骤:\n",
    "### 第一步 初始化簇的中心(cluster)\n",
    "### 第二步 计算所有样本点到簇中心(cluster)的距离(距离有很多种 例如:曼哈顿距离(闵可夫斯基距离)， 欧氏距离，等等)\n",
    "### 第三步 更新簇标记向量(lamda 代码中用 new_class 和  old_class表示)\n",
    "### 第四步 进行判断 如果簇标记向量(lamda)未发生改变则结束，否则更新簇中心(cluster)跳转至第二步骤(在实际写代码的时候，我们会定义一个最大迭代次数，如果迭代次数大于最大迭代次数，结束) "
   ]
  },
  {
   "cell_type": "code",
   "execution_count": 19,
   "id": "elegant-lobby",
   "metadata": {},
   "outputs": [],
   "source": [
    "class Kmeans():\n",
    "    def __init__(self, data, k_nums, max_item=20000, PRINT=False, init_method=\"random\", L=2):\n",
    "        self.data = data # 输入样本数据(sample data)\n",
    "        self.k = k_nums # 簇心的数目(cluster nums)\n",
    "        self.cluster = None \n",
    "        self.max_items = max_item # 最大迭代次数(maximum iterations)\n",
    "        self.init_method = init_method # 默认 随机初始化\n",
    "        self.L = L # 默认 欧几里得距离\n",
    "        self.show = PRINT # 是否绘制图片(draw pictrures)\n",
    "        \n",
    "    def init_cluster(self):\n",
    "        # 随机初始化簇心(initialize cluster by random)\n",
    "        if self.init_method == \"random\":\n",
    "            # 输入的数据shape为(M, N) M表示为样本数目 N表示为样本的数据特征数目\n",
    "            self.cluster = np.random.rand(self.k, self.data.shape[-1])\n",
    "        \n",
    "        # 使用 Kmeans++的方法更新簇心(initialize cluster by kmeans++)\n",
    "        elif self.init_method == \"kmeans++\":\n",
    "        # 挑选出K个距离最远的样本点作为初始簇心\n",
    "        # 第一次随机挑选一个样本作为第一个簇心\n",
    "            cluster = np.zeros((self.k, self.data.shape[-1]))\n",
    "            data = self.data\n",
    "            i = np.random.randint(0, int(self.data.shape[0]))\n",
    "            k = self.k\n",
    "            cluster[k-1] += data[i]\n",
    "            temp = data[i].reshape(-1, self.data.shape[-1])\n",
    "            # 删除选择的数据\n",
    "            data = np.delete(data, i, axis=0)\n",
    "            while k>1:\n",
    "                # 将k自减\n",
    "                k -= 1\n",
    "                # 计算样本点与之前选择出来的簇心的距离\n",
    "                distance = np.power( np.sum( np.power(temp - data, self.L), axis=-1), 1/self.L )\n",
    "                # 选择出距离最远的点\n",
    "                i = np.argmax(distance)\n",
    "                cluster[k-1] += data[i]\n",
    "                temp = data[i].reshape(-1, self.data.shape[-1])\n",
    "                # 删除选择的数据\n",
    "                data = np.delete(data, i, axis=0)\n",
    "            self.cluster = cluster\n",
    "                \n",
    "                \n",
    "                \n",
    "            \n",
    "        # 计算样本与簇心之间的距离\n",
    "    def compute_distance(self, L=2):\n",
    "        \n",
    "        # 样本的形状(input_data shape)为:(M, N)\n",
    "        # 簇心的形状(cluster shape)为(K, N)\n",
    "        # 使用广播机制计算 簇心与样本的距离\n",
    "            \n",
    "        data = self.data\n",
    "        # 修改样本数据的形状(sample.shape)==>(M, 1, N)\n",
    "        data = np.expand_dims(data, -2)\n",
    "\n",
    "        cluster = self.cluster\n",
    "        # 修改簇心的形状(cluster.shape)==>(1, K, N)\n",
    "        cluster = np.expand_dims(cluster, 0)\n",
    "         \n",
    "#       L = 1 为曼哈顿距离(ManhattanDistance)\n",
    "            \n",
    "#       L = 2 为欧式距离(EuclideanDistance)\n",
    "\n",
    "        distance = np.power( np.sum( np.power(data-cluster, L), axis=-1), 1/L )\n",
    "            \n",
    "        return distance\n",
    "    \n",
    "    # 更新簇心(update cluster)\n",
    "    def update_cluster(self, new_class):\n",
    "        # 将簇心更新为每一个簇内样本的平均距离\n",
    "        new_cluster = np.zeros_like(self.cluster)\n",
    "        # 用于记录每一个簇内有多少个样本点相加 用于求平均\n",
    "        nums = np.zeros_like(self.cluster)\n",
    "        for data, class_index in zip(self.data, new_class):\n",
    "            new_cluster[class_index] += data\n",
    "            nums[class_index] += 1\n",
    "        new_cluster /= nums\n",
    "        self.cluster = new_cluster\n",
    "        \n",
    "    def kmeans(self):\n",
    "        # 第一步，初始化簇新(initialize cluster)\n",
    "        self.init_cluster()\n",
    "        # 第二步，计算簇心与样本的距离(computer distance)\n",
    "        distance = self.compute_distance()\n",
    "        # 第三步，更新簇标记向量(undate cluster_classfication)\n",
    "        new_class = np.argmin(distance, axis=-1)\n",
    "        old_class = np.zeros_like(new_class)\n",
    "        # 迭代次数\n",
    "        item = 0\n",
    "        # 第四步判断\n",
    "        while not np.all(new_class == old_class) and item<self.max_items:\n",
    "            # 新的簇标记向量 赋给 老的簇标记向量 用于下一次的比较\n",
    "            old_class = new_class\n",
    "            # 更新质心\n",
    "            self.update_cluster(new_class)\n",
    "            # 第二步 计算每一个簇心(cluster)与样本(sample)的距离(computer distance)\n",
    "            distance = self.compute_distance()\n",
    "            # 第三步，更新簇标记向量(update cluster_classfication)\n",
    "            new_class = np.argmin(distance, axis=-1)\n",
    "            # 叠加item\n",
    "            item += 1\n",
    "        if self.show == True:\n",
    "            # 绘图\n",
    "            self.draw(self.data, self.cluster, new_class)\n",
    "        return self.cluster\n",
    "    \n",
    "    \n",
    "    def draw(self, data, cluster, new_class):\n",
    "        plt.scatter(data[...,0], data[...,1], c=new_class, cmap=plt.cm.Spectral)\n",
    "        plt.scatter(cluster[..., 0], cluster[..., 1], s=100, c='r', marker=\"X\")"
   ]
  },
  {
   "cell_type": "code",
   "execution_count": 20,
   "id": "average-phrase",
   "metadata": {},
   "outputs": [],
   "source": [
    "data = np.random.rand(100, 2)\n",
    "k_nums = 12\n",
    "kmeans = Kmeans(data, k_nums, PRINT=True, init_method=\"kmeans++\")"
   ]
  },
  {
   "cell_type": "code",
   "execution_count": 21,
   "id": "animated-fourth",
   "metadata": {},
   "outputs": [
    {
     "data": {
      "image/png": "[encoded data removed]",
      "text/plain": [
       "<Figure size 432x288 with 1 Axes>"
      ]
     },
     "metadata": {
      "needs_background": "light"
     },
     "output_type": "display_data"
    }
   ],
   "source": [
    "cluster = kmeans.kmeans()"
   ]
  },
  {
   "cell_type": "code",
   "execution_count": null,
   "id": "dangerous-understanding",
   "metadata": {},
   "outputs": [],
   "source": []
  }
 ],
 "metadata": {
  "kernelspec": {
   "display_name": "Python 3",
   "language": "python",
   "name": "python3"
  },
  "language_info": {
   "codemirror_mode": {
    "name": "ipython",
    "version": 3
   },
   "file_extension": ".py",
   "mimetype": "text/x-python",
   "name": "python",
   "nbconvert_exporter": "python",
   "pygments_lexer": "ipython3",
   "version": "3.7.9"
  }
 },
 "nbformat": 4,
 "nbformat_minor": 5
}
