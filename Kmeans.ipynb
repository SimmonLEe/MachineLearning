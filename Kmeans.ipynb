{
 "cells": [
  {
   "cell_type": "markdown",
   "id": "lonely-configuration",
   "metadata": {},
   "source": [
    "# 此为机器学习的前置知识\n",
    "\n",
    "## 聚类的性能度量(有效性指标)\n",
    "\n",
    "聚类的性能度量又称为聚类的\"有效性指标\", 与监督学习中的性能度量作用相似<br/>\n",
    "聚类的性能度量包括：聚类性能度量外部指标 聚类性能度量内部指标<br/>\n",
    "聚类性能度量外部指标包括:<br/>\n",
    "**1.Jaccard系数(Jaccard Coefficient, 简称JC)<br/>\n",
    "2.FM指数(Fowlkes and Mallows Index，简称FMI)<br/>\n",
    "3.RAND指数(Rand Index, 简称RI)**<br/>\n",
    "聚类性能度量内部指标包括:<br/>\n",
    "**1.DB指数(Davies-Bouldin Index，简称DBI)<br/> \n",
    "2.Dunn指数(DunnIndex, 简称DI)**<br/>"
   ]
  },
  {
   "cell_type": "markdown",
   "id": "prescribed-pepper",
   "metadata": {},
   "source": [
    "# 机器学习算法                      \n",
    "## 聚类算法 \n",
    "#### @project: K均值算法\n",
    "#### @Author:SimmonsLee\n",
    "#### @Date:3/15/2021\n",
    "#### @Descrimination: 此篇代码为Kmeans算法的代码 实现了如下功能:\n",
    "1.通过控制参数init_method实现了random的初始化方法和kmeans++的初始化方法<br/>\n",
    "2.通过控制参数L实现了多种距离<br/>\n",
    "3.可视化了最终结果(我使用的测试用例数据特征维度都是为2维度的，因为便于画图查看, 大于2维度的特征也可以成功运行，但是只会画前两个维度的图像)<br/>"
   ]
  },
  {
   "cell_type": "markdown",
   "id": "major-leather",
   "metadata": {},
   "source": [
    "# 导入需要的包"
   ]
  },
  {
   "cell_type": "code",
   "execution_count": 4,
   "id": "industrial-elder",
   "metadata": {},
   "outputs": [],
   "source": [
    "try:\n",
    "    import numpy as np\n",
    "except:\n",
    "    !pip install numpy\n",
    "    import numpy as np\n",
    "try:\n",
    "    import matplotlib.pyplot as plt\n",
    "except:\n",
    "    !pip install matplotlib\n",
    "    import matplotlib.pyplot as plt"
   ]
  },
  {
   "cell_type": "markdown",
   "id": "spatial-dakota",
   "metadata": {},
   "source": [
    "# 机器学习算法Kmeans的主要步骤:\n",
    "### 第一步 初始化簇的中心(cluster)\n",
    "### 第二步 计算所有样本点到簇中心(cluster)的距离(距离有很多种 例如:曼哈顿距离(闵可夫斯基距离)， 欧氏距离，等等)\n",
    "### 第三步 更新簇标记向量(lamda 代码中用 new_class 和  old_class表示)\n",
    "### 第四步 进行判断 如果簇标记向量(lamda)未发生改变则结束，否则更新簇中心(cluster)跳转至第二步骤(在实际写代码的时候，我们会定义一个最大迭代次数，如果迭代次数大于最大迭代次数，结束) "
   ]
  },
  {
   "cell_type": "code",
   "execution_count": 210,
   "id": "elegant-lobby",
   "metadata": {},
   "outputs": [],
   "source": [
    "class Kmeans():\n",
    "    def __init__(self, data, k_nums, max_item=20000, PRINT=False, init_method=\"random\", L=2):\n",
    "        self.data = data # 输入样本数据(sample data)\n",
    "        self.k = k_nums # 簇心的数目(cluster nums)\n",
    "        self.cluster = None \n",
    "        self.max_items = max_item # 最大迭代次数(maximum iterations)\n",
    "        self.init_method = init_method # 默认 随机初始化\n",
    "        self.L = L # 默认 欧几里得距离\n",
    "        self.show = PRINT # 是否绘制图片(draw pictrures)\n",
    "        \n",
    "    def init_cluster(self):\n",
    "        # 随机初始化簇心(initialize cluster by random)\n",
    "        if self.init_method == \"random\":\n",
    "            # 输入的数据shape为(M, N) M表示为样本数目 N表示为样本的数据特征数目\n",
    "            self.cluster = np.random.rand(self.k, self.data.shape[-1])\n",
    "        \n",
    "        # 使用 Kmeans++的方法更新簇心(initialize cluster by kmeans++)\n",
    "        elif self.init_method == \"kmeans++\":\n",
    "        # 挑选出K个距离最远的样本点作为初始簇心\n",
    "        # 第一次随机挑选一个样本作为第一个簇心\n",
    "            cluster = np.zeros((self.k, self.data.shape[-1]))\n",
    "            data = self.data\n",
    "            i = np.random.randint(0, int(self.data.shape[0]))\n",
    "            k = self.k\n",
    "            cluster[k-1] += data[i]\n",
    "            temp = data[i].reshape(-1, self.data.shape[-1])\n",
    "            # 删除选择的数据\n",
    "            data = np.delete(data, i, axis=0)\n",
    "            while k>1:\n",
    "                # 将k自减\n",
    "                k -= 1\n",
    "                # 计算样本点与之前选择出来的簇心的距离\n",
    "                distance = np.power( np.sum( np.power(temp - data, self.L), axis=-1), 1/self.L )\n",
    "                # 选择出距离最远的点\n",
    "                i = np.argmax(distance)\n",
    "                cluster[k-1] += data[i]\n",
    "                temp = data[i].reshape(-1, self.data.shape[-1])\n",
    "                # 删除选择的数据\n",
    "                data = np.delete(data, i, axis=0)\n",
    "            self.cluster = cluster\n",
    "                \n",
    "        # 计算样本与簇心之间的距离\n",
    "    def compute_distance(self, data, cluster):\n",
    "        \n",
    "        # 样本的形状(input_data shape)为:(M, N)\n",
    "        # 簇心的形状(cluster shape)为(K, N)\n",
    "        # 使用广播机制计算 簇心与样本的距离\n",
    "    \n",
    "    \n",
    "        # 修改样本数据的形状(sample.shape)==>(M, 1, N)\n",
    "        data = np.expand_dims(data, -2)\n",
    "\n",
    "        # 修改簇心的形状(cluster.shape)==>(1, K, N)\n",
    "        cluster = np.expand_dims(cluster, 0)\n",
    "         \n",
    "        # 闵可夫斯基距离(Minkowski Distance)\n",
    "        distance = np.power( np.sum( np.power(data-cluster, self.L), axis=-1), 1/self.L)\n",
    "            \n",
    "        return distance\n",
    "    \n",
    "    # 更新簇心(update cluster)\n",
    "    def update_cluster(self, new_class):\n",
    "        # 将簇心更新为每一个簇内样本的平均距离\n",
    "        new_cluster = np.zeros_like(self.cluster)\n",
    "        # 用于记录每一个簇内有多少个样本点相加 用于求平均\n",
    "        nums = np.zeros_like(self.cluster)\n",
    "        for data, class_index in zip(self.data, new_class):\n",
    "            new_cluster[class_index] += data\n",
    "            nums[class_index] += 1\n",
    "        new_cluster /= nums\n",
    "        self.cluster = new_cluster\n",
    "    \n",
    "    # 计算聚类性能度量外部指标\n",
    "    def EXTERNAL_INDEX(self, pred, true, METRICS_NAME='FMI'):\n",
    "        # pred 预测的结果 shape(M, )\n",
    "        # true 真实的结果 shape(M, )\n",
    "        \n",
    "        a = 0\n",
    "        b = 0\n",
    "        c = 0\n",
    "        d = 0\n",
    "        for i in range(pred.shape[0] - 1):\n",
    "            index_pred = pred[i]\n",
    "            index_true = true[i]\n",
    "            for x in range(i+1, pred.shape[0]):\n",
    "                y_pred = pred[x]\n",
    "                y_true = true[x]\n",
    "                # 表示训练的模型将这两个两本点归为一类\n",
    "                if y_pred == index_pred:\n",
    "                    # 预测正确\n",
    "                    if y_true == index_true and y_true == y_pred:\n",
    "                        # SS\n",
    "                        a += 1\n",
    "                    # 预测错误\n",
    "                    elif y_true != index_true:\n",
    "                        ## SD\n",
    "                        b += 1\n",
    "                # 表示训练模型没有将这两个样本点归为一类\n",
    "                elif y_pred != index_pred:\n",
    "                    # 竟然是一类的\n",
    "                    if y_true == index_true:\n",
    "                        # DS\n",
    "                        c += 1\n",
    "                    # 真的不是一类的\n",
    "                    elif y_true != index_true:\n",
    "                        # DD\n",
    "                        d += 1\n",
    "#         print(a, b, c, d)\n",
    "        # 计算 Jaccard系数\n",
    "        if METRICS_NAME == \"JC\":\n",
    "            return a / (a + b + c)\n",
    "        # 计算 FM指数\n",
    "        elif METRICS_NAME == \"FMI\":\n",
    "            return ( a/(a+b) * a/(a+c) )**0.5\n",
    "        # 计算 Rand指数\n",
    "        elif METRICS_NAME == \"RI\":\n",
    "            return (a+b) / (a + b + c + d)\n",
    "        \n",
    "    # 计算聚类性能度量内部指标\n",
    "    def INTERNAL_INDEX(self, cluster, new_class, INTER_METRICS_NAME=\"DB\"):\n",
    "        # 获取每个簇对应的数据\n",
    "        choose_data = []\n",
    "        for k in range(cluster.shape[0]):\n",
    "            pass\n",
    "        for i in range(choose_data.shape[0] - 1):\n",
    "            temp = data[i]\n",
    "            for x in range(i+1, choose_data.shape[0]):\n",
    "                print(temp, data[x])\n",
    "                pass\n",
    "                    \n",
    "    # Kmeans的均值算法\n",
    "    def kmeans(self):\n",
    "        # 第一步，初始化簇新(initialize cluster)\n",
    "        self.init_cluster()\n",
    "        # 第二步，计算簇心与样本的距离(computer distance)\n",
    "        distance = self.compute_distance(self.data, self.cluster)\n",
    "        # 第三步，更新簇标记向量(undate cluster_classfication)\n",
    "        new_class = np.argmin(distance, axis=-1)\n",
    "        old_class = np.zeros_like(new_class)\n",
    "        # 迭代次数\n",
    "        item = 0\n",
    "        # 第四步判断\n",
    "        while not np.all(new_class == old_class) and item<self.max_items:\n",
    "            # 新的簇标记向量 赋给 老的簇标记向量 用于下一次的比较\n",
    "            old_class = new_class\n",
    "            # 更新质心\n",
    "            self.update_cluster(new_class)\n",
    "            # 第二步 计算每一个簇心(cluster)与样本(sample)的距离(computer distance)\n",
    "            distance = self.compute_distance(self.data, self.cluster)\n",
    "            # 第三步，更新簇标记向量(update cluster_classfication)\n",
    "            new_class = np.argmin(distance, axis=-1)\n",
    "            # 叠加item\n",
    "            item += 1\n",
    "        if self.show == True:\n",
    "            # 绘图\n",
    "            self.draw(self.data, self.cluster, new_class)\n",
    "    \n",
    "    # 在使用完 kmeans 之后做预测 其实 kmeans就相当于在做训练\n",
    "    def pred(self, input_data):\n",
    "        # 计算样本与每一个簇心的距离\n",
    "        distance = self.compute_distance(input_data, self.cluster)\n",
    "        # 求出簇标记向量\n",
    "        pred_class = np.argmin(distance, axis=-1)\n",
    "        return pred_class\n",
    "        \n",
    "    # 展示结果\n",
    "    def draw(self, data, cluster, new_class):\n",
    "        plt.title(\"samples and clusters\")\n",
    "        plt.scatter(data[...,0], data[...,1], c=new_class, cmap=plt.cm.Spectral)\n",
    "        plt.scatter(cluster[..., 0], cluster[..., 1], s=100, c='r', marker=\"X\")"
   ]
  },
  {
   "cell_type": "code",
   "execution_count": 211,
   "id": "average-phrase",
   "metadata": {},
   "outputs": [],
   "source": [
    "data = np.random.rand(100, 2)\n",
    "k_nums = 6\n",
    "kmeans = Kmeans(data, k_nums, PRINT=True, init_method=\"kmeans++\")"
   ]
  },
  {
   "cell_type": "code",
   "execution_count": 212,
   "id": "animated-fourth",
   "metadata": {},
   "outputs": [
    {
     "data": {
      "image/png": "[encoded data removed]",
      "text/plain": [
       "<Figure size 432x288 with 1 Axes>"
      ]
     },
     "metadata": {
      "needs_background": "light"
     },
     "output_type": "display_data"
    }
   ],
   "source": [
    "kmeans.kmeans()"
   ]
  },
  {
   "cell_type": "code",
   "execution_count": 213,
   "id": "dangerous-understanding",
   "metadata": {},
   "outputs": [],
   "source": [
    "test_data = np.random.rand(10, 2)\n",
    "pred = kmeans.pred(test_data)"
   ]
  },
  {
   "cell_type": "code",
   "execution_count": 214,
   "id": "thousand-calcium",
   "metadata": {},
   "outputs": [],
   "source": [
    "label = np.random.randint(0, 6, 50)"
   ]
  },
  {
   "cell_type": "code",
   "execution_count": 215,
   "id": "expected-description",
   "metadata": {},
   "outputs": [
    {
     "data": {
      "text/plain": [
       "1.0"
      ]
     },
     "execution_count": 215,
     "metadata": {},
     "output_type": "execute_result"
    }
   ],
   "source": [
    "kmeans.EXTERNAL_INDEX(pred, pred, \"JC\")"
   ]
  },
  {
   "cell_type": "code",
   "execution_count": 216,
   "id": "southern-prevention",
   "metadata": {},
   "outputs": [],
   "source": [
    "# 选出所有可能的两两组合的数据进行计算\n",
    "A = np.array([[1, 2], [2, 3], [3,4]])"
   ]
  },
  {
   "cell_type": "code",
   "execution_count": 217,
   "id": "prescription-transparency",
   "metadata": {},
   "outputs": [],
   "source": [
    "def choose(data):\n",
    "    for i in range(data.shape[0] - 1):\n",
    "        temp = data[i]\n",
    "        for x in range(i+1, data.shape[0]):\n",
    "            print(temp, data[x])"
   ]
  },
  {
   "cell_type": "code",
   "execution_count": 218,
   "id": "twenty-ridge",
   "metadata": {},
   "outputs": [
    {
     "name": "stdout",
     "output_type": "stream",
     "text": [
      "[1 2] [2 3]\n",
      "[1 2] [3 4]\n",
      "[2 3] [3 4]\n"
     ]
    }
   ],
   "source": [
    "choose(A)"
   ]
  },
  {
   "cell_type": "code",
   "execution_count": null,
   "id": "early-postage",
   "metadata": {},
   "outputs": [],
   "source": []
  }
 ],
 "metadata": {
  "kernelspec": {
   "display_name": "Python 3",
   "language": "python",
   "name": "python3"
  },
  "language_info": {
   "codemirror_mode": {
    "name": "ipython",
    "version": 3
   },
   "file_extension": ".py",
   "mimetype": "text/x-python",
   "name": "python",
   "nbconvert_exporter": "python",
   "pygments_lexer": "ipython3",
   "version": "3.7.9"
  }
 },
 "nbformat": 4,
 "nbformat_minor": 5
}
